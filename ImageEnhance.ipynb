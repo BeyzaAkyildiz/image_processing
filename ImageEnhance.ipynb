{
 "cells": [
  {
   "cell_type": "code",
   "execution_count": 4,
   "id": "cbabb8b0",
   "metadata": {},
   "outputs": [],
   "source": [
    "from PIL import Image\n",
    "from PIL import ImageEnhance\n",
    "\n",
    "image = Image.open(\"C:/Users/Beyza/Desktop/image_processing/text2.jpg\")\n",
    "image.show()\n",
    "curr_sharp = ImageEnhance.Sharpness(image)\n",
    "new_sharp = 8.3\n",
    "img_sharped = curr_sharp.enhance(new_sharp)\n",
    "img_sharped.show()"
   ]
  }
 ],
 "metadata": {
  "kernelspec": {
   "display_name": "Python 3 (ipykernel)",
   "language": "python",
   "name": "python3"
  },
  "language_info": {
   "codemirror_mode": {
    "name": "ipython",
    "version": 3
   },
   "file_extension": ".py",
   "mimetype": "text/x-python",
   "name": "python",
   "nbconvert_exporter": "python",
   "pygments_lexer": "ipython3",
   "version": "3.9.12"
  }
 },
 "nbformat": 4,
 "nbformat_minor": 5
}
